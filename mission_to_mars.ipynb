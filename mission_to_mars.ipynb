{
 "cells": [
  {
   "cell_type": "code",
   "execution_count": 3,
   "metadata": {},
   "outputs": [],
   "source": [
    "# Dependencies\n",
    "from splinter import Browser\n",
    "from bs4 import BeautifulSoup\n",
    "import pandas as pd"
   ]
  },
  {
   "cell_type": "code",
   "execution_count": 41,
   "metadata": {},
   "outputs": [],
   "source": [
    "executable_path = {'executable_path': 'chromedriver.exe'}\n",
    "browser = Browser('chrome', **executable_path, headless=False)"
   ]
  },
  {
   "cell_type": "code",
   "execution_count": 42,
   "metadata": {},
   "outputs": [],
   "source": [
    "url = \"https://mars.nasa.gov/news/\"\n",
    "browser.visit(url)"
   ]
  },
  {
   "cell_type": "code",
   "execution_count": 43,
   "metadata": {},
   "outputs": [],
   "source": [
    "html = browser.html\n",
    "soup = BeautifulSoup(html, 'html.parser')"
   ]
  },
  {
   "cell_type": "code",
   "execution_count": 61,
   "metadata": {},
   "outputs": [
    {
     "data": {
      "text/plain": [
       "'/news/8432/insight-captures-sunrise-and-sunset-on-mars/'"
      ]
     },
     "execution_count": 61,
     "metadata": {},
     "output_type": "execute_result"
    }
   ],
   "source": [
    "soup.find_all('div', class_=\"list_text\")[0].a['href']"
   ]
  },
  {
   "cell_type": "code",
   "execution_count": 7,
   "metadata": {},
   "outputs": [],
   "source": [
    "title = soup.find('div', class_=\"list_text\").find('div', class_=\"content_title\")\n",
    "par = soup.find('div', class_=\"list_text\").find('div', class_=\"article_teaser_body\")"
   ]
  },
  {
   "cell_type": "code",
   "execution_count": 8,
   "metadata": {},
   "outputs": [
    {
     "data": {
      "text/plain": [
       "'InSight Captures Sunrise and Sunset on Mars'"
      ]
     },
     "execution_count": 8,
     "metadata": {},
     "output_type": "execute_result"
    }
   ],
   "source": [
    "title.text"
   ]
  },
  {
   "cell_type": "code",
   "execution_count": 9,
   "metadata": {},
   "outputs": [
    {
     "data": {
      "text/plain": [
       "\"InSight joins the rest of NASA's Red Planet surface missions, all of which have photographed either the start or end of a Martian day.\""
      ]
     },
     "execution_count": 9,
     "metadata": {},
     "output_type": "execute_result"
    }
   ],
   "source": [
    "par.text"
   ]
  },
  {
   "cell_type": "code",
   "execution_count": 62,
   "metadata": {},
   "outputs": [],
   "source": [
    "titles = []\n",
    "paras = []\n",
    "lnks = []\n",
    "\n",
    "for x in soup.find_all('div', class_=\"list_text\"):\n",
    "    title = x.find('div', class_=\"content_title\")\n",
    "    par = x.find('div', class_=\"article_teaser_body\")\n",
    "    link = x.a['href']\n",
    "    titles.append(title.text)\n",
    "    paras.append(par.text)\n",
    "    lnks.append(link)"
   ]
  },
  {
   "cell_type": "code",
   "execution_count": 63,
   "metadata": {},
   "outputs": [
    {
     "data": {
      "text/plain": [
       "(40, 40)"
      ]
     },
     "execution_count": 63,
     "metadata": {},
     "output_type": "execute_result"
    }
   ],
   "source": [
    "len(titles), len(paras)"
   ]
  },
  {
   "cell_type": "code",
   "execution_count": 64,
   "metadata": {},
   "outputs": [
    {
     "data": {
      "text/plain": [
       "['/news/8432/insight-captures-sunrise-and-sunset-on-mars/',\n",
       " '/news/8431/nasa-social-media-and-websites-win-webby-awards/',\n",
       " '/news/8430/nasas-insight-detects-first-likely-quake-on-mars/',\n",
       " '/news/8428/things-are-stacking-up-for-nasas-mars-2020-spacecraft/',\n",
       " '/news/8427/curiosity-tastes-first-sample-in-clay-bearing-unit/',\n",
       " '/news/8419/more-testing-for-mars-insights-mole/',\n",
       " '/news/8426/nasa-garners-7-webby-award-nominations/',\n",
       " '/news/8425/curiosity-captured-two-solar-eclipses-on-mars/',\n",
       " '/news/8424/nasas-mars-helicopter-completes-flight-tests/',\n",
       " '/news/8423/asteroids-hydrogen-make-great-recipe-for-life-on-mars/',\n",
       " '/news/8422/catch-nasas-jpl-at-the-clippers-scifest-this-weekend/',\n",
       " '/news/8421/nasas-mars-2020-rover-is-put-to-the-test/',\n",
       " '/news/8420/opportunitys-parting-shot-was-a-beautiful-panorama/',\n",
       " '/news/8416/curiosity-resumes-operations-after-switching-computers/',\n",
       " '/news/8417/insight-lands-praise-and-a-proclamation-from-la-county/',\n",
       " '/news/8415/insight-is-the-newest-mars-weather-service/',\n",
       " '/news/8414/six-things-to-know-about-nasas-opportunity-rover/',\n",
       " '/news/8413/nasas-opportunity-rover-mission-on-mars-comes-to-end/',\n",
       " '/news/8412/nasas-insight-prepares-to-take-mars-temperature/',\n",
       " '/news/8411/nasa-to-share-results-of-effort-to-recover-mars-rover/',\n",
       " '/news/8410/nasas-maven-spacecraft-shrinking-its-mars-orbit-to-prepare-for-mars-2020-rover/',\n",
       " '/news/8409/360-video-curiosity-rover-departs-vera-rubin-ridge/',\n",
       " '/news/8408/beyond-mars-the-mini-marco-spacecraft-fall-silent/',\n",
       " '/news/8407/insights-seismometer-now-has-a-cozy-shelter-on-mars/',\n",
       " '/news/8406/mars-buggy-curiosity-measures-a-mountains-gravity/',\n",
       " '/news/8405/curiosity-says-farewell-to-mars-vera-rubin-ridge/',\n",
       " '/news/8404/rover-team-beaming-new-commands-to-opportunity-on-mars/',\n",
       " '/news/8403/nasas-opportunity-rover-logs-15-years-on-mars/',\n",
       " '/news/8402/nasas-insight-places-first-instrument-on-mars/',\n",
       " '/news/8401/insight-engineers-have-made-a-martian-rock-garden/',\n",
       " '/news/8400/mars-insight-lander-seen-in-first-images-from-space/',\n",
       " '/news/8398/nasas-insight-takes-its-first-selfie/',\n",
       " '/news/8397/nasa-insight-lander-hears-martian-winds/',\n",
       " '/news/8396/nasas-mars-insight-flexes-its-arm/',\n",
       " '/news/8395/mars-new-home-a-large-sandbox/',\n",
       " '/news/8394/nasa-hears-marco-cubesats-loud-and-clear-from-mars/',\n",
       " '/news/8393/insight-is-catching-rays-on-mars/',\n",
       " '/news/8392/nasa-insight-lander-arrives-on-martian-surface/',\n",
       " '/news/8391/landing-day-for-insight/',\n",
       " '/news/8390/nasa-insight-landing-on-mars-milestones/']"
      ]
     },
     "execution_count": 64,
     "metadata": {},
     "output_type": "execute_result"
    }
   ],
   "source": [
    "lnks"
   ]
  },
  {
   "cell_type": "code",
   "execution_count": 67,
   "metadata": {},
   "outputs": [],
   "source": [
    "news = []\n",
    "for x in range(0, len(titles)):\n",
    "#     print(x.text)\n",
    "    news.append({'title':titles[x], 'text':paras[x], '_url':\"https://mars.nasa.gov\" + lnks[x]})\n",
    "#     news[titles[x]] = paras[x]"
   ]
  },
  {
   "cell_type": "code",
   "execution_count": 68,
   "metadata": {},
   "outputs": [
    {
     "data": {
      "text/plain": [
       "[{'title': 'InSight Captures Sunrise and Sunset on Mars',\n",
       "  'text': \"InSight joins the rest of NASA's Red Planet surface missions, all of which have photographed either the start or end of a Martian day.\",\n",
       "  '_url': 'https://mars.nasa.gov/news/8432/insight-captures-sunrise-and-sunset-on-mars/'},\n",
       " {'title': 'NASA Social Media and Websites Win Webby Awards ',\n",
       "  'text': 'NASA\\'s social media presence, the InSight mission social media accounts, NASA.gov and SolarSystem.NASA.gov will be honored at the 2019 Webby Awards - \"the Oscars of the Internet.\"',\n",
       "  '_url': 'https://mars.nasa.gov/news/8431/nasa-social-media-and-websites-win-webby-awards/'},\n",
       " {'title': \"NASA's InSight Detects First Likely 'Quake' on Mars\",\n",
       "  'text': 'While their causes are still unknown, one of three shaking events looks a lot like the quakes detected on the Moon by the Apollo missions.',\n",
       "  '_url': 'https://mars.nasa.gov/news/8430/nasas-insight-detects-first-likely-quake-on-mars/'},\n",
       " {'title': \"Things Are Stacking up for NASA's Mars 2020 Spacecraft\",\n",
       "  'text': 'As the July 2020 launch date inches closer, the next spacecraft headed to the Red Planet is assembled for more testing.',\n",
       "  '_url': 'https://mars.nasa.gov/news/8428/things-are-stacking-up-for-nasas-mars-2020-spacecraft/'},\n",
       " {'title': \"Curiosity Tastes First Sample in 'Clay-Bearing Unit'\",\n",
       "  'text': 'This new region on Mars might reveal more about the role of water on Mount Sharp.',\n",
       "  '_url': 'https://mars.nasa.gov/news/8427/curiosity-tastes-first-sample-in-clay-bearing-unit/'},\n",
       " {'title': \"More Testing for Mars InSight's 'Mole'\",\n",
       "  'text': \"After the mission's heat probe began hammering last week, it appears to have hit a rock. The team is analyzing data before they hammer again.\",\n",
       "  '_url': 'https://mars.nasa.gov/news/8419/more-testing-for-mars-insights-mole/'},\n",
       " {'title': 'NASA Garners 7 Webby Award Nominations',\n",
       "  'text': 'Nominees include four JPL projects: the solar system and climate websites, InSight social media, and a 360-degree Earth video. Public voting closes April 18, 2019.',\n",
       "  '_url': 'https://mars.nasa.gov/news/8426/nasa-garners-7-webby-award-nominations/'},\n",
       " {'title': 'Curiosity Captured Two Solar Eclipses on Mars',\n",
       "  'text': 'Observing the Martian moons Phobos and Deimos crossing in front of the Sun helps scientists better understand their orbits.',\n",
       "  '_url': 'https://mars.nasa.gov/news/8425/curiosity-captured-two-solar-eclipses-on-mars/'},\n",
       " {'title': \"NASA's Mars Helicopter Completes Flight Tests\",\n",
       "  'text': 'The first helicopter to fly on Mars had its first flight on Earth.',\n",
       "  '_url': 'https://mars.nasa.gov/news/8424/nasas-mars-helicopter-completes-flight-tests/'},\n",
       " {'title': 'Asteroids, Hydrogen Make Great Recipe for Life on Mars',\n",
       "  'text': 'Laser blasts in lab tests suggest asteroid bombardment could have provided key ingredients for life on ancient Mars.',\n",
       "  '_url': 'https://mars.nasa.gov/news/8423/asteroids-hydrogen-make-great-recipe-for-life-on-mars/'},\n",
       " {'title': \"Catch NASA's JPL at the Clippers SciFest This Weekend\",\n",
       "  'text': \"Students and families can meet a Mars rover, take a virtual tour through our solar system and explore alien worlds with NASA's Jet Propulsion Laboratory at the Clippers SciFest SoCal.\",\n",
       "  '_url': 'https://mars.nasa.gov/news/8422/catch-nasas-jpl-at-the-clippers-scifest-this-weekend/'},\n",
       " {'title': \"NASA's Mars 2020 Rover Is Put to the Test\",\n",
       "  'text': \"In January, Mars 2020 engineers and technicians took over JPL's cleanroom to put the mission's cruise, entry capsule, descent stage and rover through their paces.\",\n",
       "  '_url': 'https://mars.nasa.gov/news/8421/nasas-mars-2020-rover-is-put-to-the-test/'},\n",
       " {'title': \"Opportunity's Parting Shot Was a Beautiful Panorama\",\n",
       "  'text': \"NASA declared the record-setting rover's mission complete on Feb. 13, 2019, but the final image from the rover has just been processed.\",\n",
       "  '_url': 'https://mars.nasa.gov/news/8420/opportunitys-parting-shot-was-a-beautiful-panorama/'},\n",
       " {'title': 'Curiosity Resumes Operations After Switching Computers',\n",
       "  'text': \"Curiosity experienced a computer reset on its Side-A computer on Wednesday, March 6, 2019 (Sol 2,339), that triggered the rover's safe mode.\",\n",
       "  '_url': 'https://mars.nasa.gov/news/8416/curiosity-resumes-operations-after-switching-computers/'},\n",
       " {'title': 'InSight Lands Praise and a Proclamation from LA County',\n",
       "  'text': 'Several members of the Mars InSight team accepted a proclamation on behalf of the mission from L.A. County Board of Supervisors on Tuesday, Feb. 19.',\n",
       "  '_url': 'https://mars.nasa.gov/news/8417/insight-lands-praise-and-a-proclamation-from-la-county/'},\n",
       " {'title': 'InSight Is the Newest Mars Weather Service',\n",
       "  'text': \"By collecting data around the clock, NASA's lander will provide unique science about the Martian surface.\",\n",
       "  '_url': 'https://mars.nasa.gov/news/8415/insight-is-the-newest-mars-weather-service/'},\n",
       " {'title': \"Six Things to Know About NASA's Opportunity Rover\",\n",
       "  'text': \"Opportunity's mission is complete. Here are highlights from its time on Mars.\",\n",
       "  '_url': 'https://mars.nasa.gov/news/8414/six-things-to-know-about-nasas-opportunity-rover/'},\n",
       " {'title': \"NASA's Opportunity Rover Mission on Mars Comes to End\",\n",
       "  'text': \"NASA's Opportunity Mars rover mission is complete after 15 years on Mars. Opportunity's record-breaking exploration laid the groundwork for future missions to the Red Planet.\",\n",
       "  '_url': 'https://mars.nasa.gov/news/8413/nasas-opportunity-rover-mission-on-mars-comes-to-end/'},\n",
       " {'title': \"NASA's InSight Prepares to Take Mars' Temperature\",\n",
       "  'text': \"The lander's second instrument is on the ground. But its ‘mole’ — a burrowing probe — has a long way to go.\",\n",
       "  '_url': 'https://mars.nasa.gov/news/8412/nasas-insight-prepares-to-take-mars-temperature/'},\n",
       " {'title': 'NASA to Share Results of Effort to Recover Mars Rover',\n",
       "  'text': 'NASA will discuss the status of its Mars Exploration Rover Opportunity in a media briefing at 11 a.m. PST (2 p.m. EST) Wednesday, Feb. 13, from the Jet Propulsion Laboratory.',\n",
       "  '_url': 'https://mars.nasa.gov/news/8411/nasa-to-share-results-of-effort-to-recover-mars-rover/'},\n",
       " {'title': \"NASA's MAVEN Spacecraft Shrinking its Mars Orbit to Prepare for Mars 2020 Rover\",\n",
       "  'text': 'The MAVEN spacecraft today is starting a campaign to tighten its orbit around Mars to prepare to serve as a data-relay satellite for NASA’s Mars 2020 rover, which launches next year.',\n",
       "  '_url': 'https://mars.nasa.gov/news/8410/nasas-maven-spacecraft-shrinking-its-mars-orbit-to-prepare-for-mars-2020-rover/'},\n",
       " {'title': '360 Video: Curiosity Rover Departs Vera Rubin Ridge',\n",
       "  'text': \"This panorama from the Mast Camera (Mastcam) on NASA's Curiosity Mars rover was taken on Dec. 19 (Sol 2265). The rover's last drill location on Vera Rubin Ridge is visible, as well as the clay region it will spend the next year exploring.\",\n",
       "  '_url': 'https://mars.nasa.gov/news/8409/360-video-curiosity-rover-departs-vera-rubin-ridge/'},\n",
       " {'title': 'Beyond Mars, the Mini MarCO Spacecraft Fall Silent',\n",
       "  'text': 'The first CubeSat mission to deep space may have reached their limit, but they could inspire future NASA missions.',\n",
       "  '_url': 'https://mars.nasa.gov/news/8408/beyond-mars-the-mini-marco-spacecraft-fall-silent/'},\n",
       " {'title': \"InSight's Seismometer Now Has a Cozy Shelter on Mars\",\n",
       "  'text': \"A domed shield has been set over one of InSight's primary science instruments, protecting it from Mars' wind and temperature changes.\",\n",
       "  '_url': 'https://mars.nasa.gov/news/8407/insights-seismometer-now-has-a-cozy-shelter-on-mars/'},\n",
       " {'title': '\"Mars Buggy\" Curiosity Measures a Mountain\\'s Gravity',\n",
       "  'text': 'Smartphone-like sensors on the NASA rover were used to calculate the density of Mount Sharp, offering new clues to its formation.',\n",
       "  '_url': 'https://mars.nasa.gov/news/8406/mars-buggy-curiosity-measures-a-mountains-gravity/'},\n",
       " {'title': \"Curiosity Says Farewell to Mars' Vera Rubin Ridge\",\n",
       "  'text': \"The Mars rover is moving on and has taken its last selfie on the ridge it's explored for more than a year.\",\n",
       "  '_url': 'https://mars.nasa.gov/news/8405/curiosity-says-farewell-to-mars-vera-rubin-ridge/'},\n",
       " {'title': 'Rover Team Beaming New Commands to Opportunity on Mars',\n",
       "  'text': 'Engineers at JPL have begun transmitting a new set of commands to Opportunity in an attempt to compel the Mars rover to contact Earth.',\n",
       "  '_url': 'https://mars.nasa.gov/news/8404/rover-team-beaming-new-commands-to-opportunity-on-mars/'},\n",
       " {'title': \"NASA's Opportunity Rover Logs 15 Years on Mars\",\n",
       "  'text': 'The rover landed in a region of the Red Planet called Meridiani Planum 16 years ago today, on Jan. 24, 2004.',\n",
       "  '_url': 'https://mars.nasa.gov/news/8403/nasas-opportunity-rover-logs-15-years-on-mars/'},\n",
       " {'title': \"NASA's InSight Places First Instrument on Mars\",\n",
       "  'text': 'In deploying its first instrument onto the surface of Mars, the lander completes a major mission milestone.',\n",
       "  '_url': 'https://mars.nasa.gov/news/8402/nasas-insight-places-first-instrument-on-mars/'},\n",
       " {'title': 'InSight Engineers Have Made a Martian Rock Garden',\n",
       "  'text': \"Reconstructing Mars here on Earth lets them practice setting down the lander's science instruments.\",\n",
       "  '_url': 'https://mars.nasa.gov/news/8401/insight-engineers-have-made-a-martian-rock-garden/'},\n",
       " {'title': 'Mars InSight Lander Seen in First Images from Space ',\n",
       "  'text': \"Look closely, and you can make out the lander's solar panels.\",\n",
       "  '_url': 'https://mars.nasa.gov/news/8400/mars-insight-lander-seen-in-first-images-from-space/'},\n",
       " {'title': \"NASA's InSight Takes Its First Selfie\",\n",
       "  'text': 'Two new image mosaics detail the lander\\'s deck and \"workspace\" — the surface where it will eventually set down its science instruments.',\n",
       "  '_url': 'https://mars.nasa.gov/news/8398/nasas-insight-takes-its-first-selfie/'},\n",
       " {'title': \"NASA InSight Lander 'Hears' Martian Winds \",\n",
       "  'text': 'Vibrations picked up by two spacecraft instruments have provided the first sounds of Martian wind.',\n",
       "  '_url': 'https://mars.nasa.gov/news/8397/nasa-insight-lander-hears-martian-winds/'},\n",
       " {'title': \"NASA's Mars InSight Flexes Its Arm\",\n",
       "  'text': \"Now unstowed, the spacecraft's robotic arm will point a camera located on its elbow and take images of the surroundings.\",\n",
       "  '_url': 'https://mars.nasa.gov/news/8396/nasas-mars-insight-flexes-its-arm/'},\n",
       " {'title': \"Mars New Home 'a Large Sandbox'\",\n",
       "  'text': \"With InSight safely on the surface of Mars, the mission team is busy learning more about the spacecraft's landing site.\",\n",
       "  '_url': 'https://mars.nasa.gov/news/8395/mars-new-home-a-large-sandbox/'},\n",
       " {'title': 'NASA Hears MarCO CubeSats Loud and Clear from Mars ',\n",
       "  'text': \"A pair of tiny, experimental spacecraft fulfilled their mission yesterday, relaying back near-real-time data during InSight's landing.\",\n",
       "  '_url': 'https://mars.nasa.gov/news/8394/nasa-hears-marco-cubesats-loud-and-clear-from-mars/'},\n",
       " {'title': 'InSight Is Catching Rays on Mars',\n",
       "  'text': 'The lander has sent data indicating its solar panels are open and receiving sunlight to power its surface operations.',\n",
       "  '_url': 'https://mars.nasa.gov/news/8393/insight-is-catching-rays-on-mars/'},\n",
       " {'title': 'NASA InSight Lander Arrives on Martian Surface ',\n",
       "  'text': 'The touchdown marks the eighth time NASA has successfully landed a spacecraft on Mars.',\n",
       "  '_url': 'https://mars.nasa.gov/news/8392/nasa-insight-lander-arrives-on-martian-surface/'},\n",
       " {'title': 'Landing Day for InSight',\n",
       "  'text': \"NASA's InSight spacecraft is on target for Mars landing at around noon PST today.\",\n",
       "  '_url': 'https://mars.nasa.gov/news/8391/landing-day-for-insight/'},\n",
       " {'title': 'NASA InSight Landing on Mars: Milestones',\n",
       "  'text': \"On Nov. 26, NASA's InSight spacecraft will blaze through the Martian atmosphere and set a lander gently on the surface in less time than it takes to cook a hard-boiled egg.\",\n",
       "  '_url': 'https://mars.nasa.gov/news/8390/nasa-insight-landing-on-mars-milestones/'}]"
      ]
     },
     "execution_count": 68,
     "metadata": {},
     "output_type": "execute_result"
    }
   ],
   "source": [
    "news"
   ]
  },
  {
   "cell_type": "code",
   "execution_count": 13,
   "metadata": {},
   "outputs": [
    {
     "data": {
      "text/plain": [
       "'InSight Captures Sunrise and Sunset on Mars'"
      ]
     },
     "execution_count": 13,
     "metadata": {},
     "output_type": "execute_result"
    }
   ],
   "source": [
    "news[0]['title']"
   ]
  },
  {
   "cell_type": "markdown",
   "metadata": {},
   "source": [
    "## Featured Image"
   ]
  },
  {
   "cell_type": "code",
   "execution_count": 223,
   "metadata": {},
   "outputs": [],
   "source": [
    "url = \"https://www.jpl.nasa.gov/spaceimages/?search=mars&category=featured#submit/\"\n",
    "browser.visit(url)"
   ]
  },
  {
   "cell_type": "code",
   "execution_count": 224,
   "metadata": {},
   "outputs": [],
   "source": [
    "html = browser.html\n",
    "soup = BeautifulSoup(html, 'html.parser')"
   ]
  },
  {
   "cell_type": "code",
   "execution_count": 236,
   "metadata": {},
   "outputs": [],
   "source": [
    "# slides = soup.find_all('li', class_='slide')"
   ]
  },
  {
   "cell_type": "code",
   "execution_count": 251,
   "metadata": {},
   "outputs": [
    {
     "data": {
      "text/plain": [
       "[]"
      ]
     },
     "execution_count": 251,
     "metadata": {},
     "output_type": "execute_result"
    }
   ],
   "source": [
    "soup.find_all(\"a\", string=\"Mars, Before InSight\")"
   ]
  },
  {
   "cell_type": "code",
   "execution_count": 266,
   "metadata": {},
   "outputs": [
    {
     "data": {
      "text/plain": [
       "'/spaceimages/images/largesize/PIA22831_hires.jpg'"
      ]
     },
     "execution_count": 266,
     "metadata": {},
     "output_type": "execute_result"
    }
   ],
   "source": [
    "soup.find_all(attrs={\"data-title\": \"Mars, Before InSight\"})[0]['data-fancybox-href']"
   ]
  },
  {
   "cell_type": "code",
   "execution_count": null,
   "metadata": {},
   "outputs": [],
   "source": []
  },
  {
   "cell_type": "code",
   "execution_count": 265,
   "metadata": {},
   "outputs": [
    {
     "data": {
      "text/plain": [
       "'/spaceimages/images/largesize/PIA22893_hires.jpg'"
      ]
     },
     "execution_count": 265,
     "metadata": {},
     "output_type": "execute_result"
    }
   ],
   "source": [
    "soup.find('li', class_='slide').a['data-fancybox-href']"
   ]
  },
  {
   "cell_type": "code",
   "execution_count": null,
   "metadata": {},
   "outputs": [],
   "source": []
  },
  {
   "cell_type": "code",
   "execution_count": 195,
   "metadata": {},
   "outputs": [],
   "source": [
    "image = soup.find_all(class_=\"carousel_item\")[0]['style']"
   ]
  },
  {
   "cell_type": "code",
   "execution_count": 196,
   "metadata": {},
   "outputs": [
    {
     "data": {
      "text/plain": [
       "'/spaceimages/images/wallpaper/PIA17563-1920x1200.jpg'"
      ]
     },
     "execution_count": 196,
     "metadata": {},
     "output_type": "execute_result"
    }
   ],
   "source": [
    "image.split(\"('\", 1)[1].split(\"')\")[0]"
   ]
  },
  {
   "cell_type": "code",
   "execution_count": 18,
   "metadata": {},
   "outputs": [],
   "source": [
    "featured_image_url = \"https://www.jpl.nasa.gov\" + image.split(\"('\", 1)[1].split(\"')\")[0]"
   ]
  },
  {
   "cell_type": "code",
   "execution_count": 19,
   "metadata": {},
   "outputs": [
    {
     "data": {
      "text/plain": [
       "'https://www.jpl.nasa.gov/spaceimages/images/wallpaper/PIA17200-1920x1200.jpg'"
      ]
     },
     "execution_count": 19,
     "metadata": {},
     "output_type": "execute_result"
    }
   ],
   "source": [
    "featured_image_url"
   ]
  },
  {
   "cell_type": "markdown",
   "metadata": {},
   "source": [
    "## Mars Weather"
   ]
  },
  {
   "cell_type": "code",
   "execution_count": 186,
   "metadata": {},
   "outputs": [],
   "source": [
    "url = \"https://twitter.com/marswxreport?lang=en\"\n",
    "browser.visit(url)"
   ]
  },
  {
   "cell_type": "code",
   "execution_count": 187,
   "metadata": {},
   "outputs": [],
   "source": [
    "html = browser.html\n",
    "soup = BeautifulSoup(html, 'html.parser')"
   ]
  },
  {
   "cell_type": "code",
   "execution_count": 188,
   "metadata": {},
   "outputs": [],
   "source": [
    "tweets = soup.find_all('div', class_='content')"
   ]
  },
  {
   "cell_type": "code",
   "execution_count": 189,
   "metadata": {},
   "outputs": [],
   "source": [
    "marsWx_tweets = []\n",
    "for tw in tweets:\n",
    "    if tw.a['href'] == \"/MarsWxReport\" :\n",
    "        marsWx_tweets.append(tw)"
   ]
  },
  {
   "cell_type": "code",
   "execution_count": 190,
   "metadata": {},
   "outputs": [],
   "source": [
    "# wx = marsWx_tweets[0].find('p', class_='tweet-text').get_text(strip=True)\n",
    "wx = marsWx_tweets[0].find('p', class_='tweet-text').get_text().replace('\\n', ' ')\n",
    "# wx = wx.split(' ')[1:len(wx.split(' '))-1]\n",
    "\n",
    "# s=' '\n",
    "# mars_weather = s.join(wx).replace('\\n', ' ')\n",
    "mars_weather = wx"
   ]
  },
  {
   "cell_type": "code",
   "execution_count": 191,
   "metadata": {},
   "outputs": [
    {
     "data": {
      "text/plain": [
       "'InSight sol 152 (2019-05-01) low -98.1ºC (-144.5ºF) high -17.2ºC (1.0ºF) winds from the SW at 4.8 m/s (10.7 mph) gusting to 13.2 m/s (29.5 mph) pressure at 7.40 hPapic.twitter.com/zJGo11uNF1'"
      ]
     },
     "execution_count": 191,
     "metadata": {},
     "output_type": "execute_result"
    }
   ],
   "source": [
    "mars_weather"
   ]
  },
  {
   "cell_type": "markdown",
   "metadata": {},
   "source": [
    "## Mars Facts"
   ]
  },
  {
   "cell_type": "code",
   "execution_count": 16,
   "metadata": {},
   "outputs": [],
   "source": [
    "url = \"https://space-facts.com/mars/\"\n",
    "browser.visit(url)"
   ]
  },
  {
   "cell_type": "code",
   "execution_count": 17,
   "metadata": {},
   "outputs": [],
   "source": [
    "html = browser.html\n",
    "soup = BeautifulSoup(html, 'html.parser')"
   ]
  },
  {
   "cell_type": "code",
   "execution_count": 18,
   "metadata": {},
   "outputs": [],
   "source": [
    "# print(soup.find_all(class_='tablepress tablepress-id-mars'))\n",
    "table = soup.find_all('table', id=\"tablepress-mars\")[0]"
   ]
  },
  {
   "cell_type": "code",
   "execution_count": 19,
   "metadata": {},
   "outputs": [
    {
     "data": {
      "text/plain": [
       "<table class=\"tablepress tablepress-id-mars\" id=\"tablepress-mars\">\n",
       "<tbody>\n",
       "<tr class=\"row-1 odd\">\n",
       "<td class=\"column-1\"><strong>Equatorial Diameter:</strong></td><td class=\"column-2\">6,792 km<br/>\n",
       "</td>\n",
       "</tr>\n",
       "<tr class=\"row-2 even\">\n",
       "<td class=\"column-1\"><strong>Polar Diameter:</strong></td><td class=\"column-2\">6,752 km<br/>\n",
       "</td>\n",
       "</tr>\n",
       "<tr class=\"row-3 odd\">\n",
       "<td class=\"column-1\"><strong>Mass:</strong></td><td class=\"column-2\">6.42 x 10^23 kg (10.7% Earth)</td>\n",
       "</tr>\n",
       "<tr class=\"row-4 even\">\n",
       "<td class=\"column-1\"><strong>Moons:</strong></td><td class=\"column-2\">2 (<a href=\"https://space-facts.com/phobos/\">Phobos</a> &amp; <a href=\"https://space-facts.com/deimos/\">Deimos</a>)</td>\n",
       "</tr>\n",
       "<tr class=\"row-5 odd\">\n",
       "<td class=\"column-1\"><strong>Orbit Distance:</strong></td><td class=\"column-2\">227,943,824 km (1.52 AU)</td>\n",
       "</tr>\n",
       "<tr class=\"row-6 even\">\n",
       "<td class=\"column-1\"><strong>Orbit Period:</strong></td><td class=\"column-2\">687 days (1.9 years)<br/>\n",
       "</td>\n",
       "</tr>\n",
       "<tr class=\"row-7 odd\">\n",
       "<td class=\"column-1\"><strong>Surface Temperature: </strong></td><td class=\"column-2\">-153 to 20 °C</td>\n",
       "</tr>\n",
       "<tr class=\"row-8 even\">\n",
       "<td class=\"column-1\"><strong>First Record:</strong></td><td class=\"column-2\">2nd millennium BC</td>\n",
       "</tr>\n",
       "<tr class=\"row-9 odd\">\n",
       "<td class=\"column-1\"><strong>Recorded By:</strong></td><td class=\"column-2\">Egyptian astronomers</td>\n",
       "</tr>\n",
       "</tbody>\n",
       "</table>"
      ]
     },
     "execution_count": 19,
     "metadata": {},
     "output_type": "execute_result"
    }
   ],
   "source": [
    "table"
   ]
  },
  {
   "cell_type": "code",
   "execution_count": 132,
   "metadata": {},
   "outputs": [],
   "source": [
    "# table['class'].append('float-right')\n"
   ]
  },
  {
   "cell_type": "code",
   "execution_count": 20,
   "metadata": {},
   "outputs": [
    {
     "data": {
      "text/plain": [
       "<table class=\"tablepress tablepress-id-mars\" id=\"tablepress-mars\">\n",
       "<tbody>\n",
       "<tr class=\"row-1 odd\">\n",
       "<td class=\"column-1\"><strong>Equatorial Diameter:</strong></td><td class=\"column-2\">6,792 km<br/>\n",
       "</td>\n",
       "</tr>\n",
       "<tr class=\"row-2 even\">\n",
       "<td class=\"column-1\"><strong>Polar Diameter:</strong></td><td class=\"column-2\">6,752 km<br/>\n",
       "</td>\n",
       "</tr>\n",
       "<tr class=\"row-3 odd\">\n",
       "<td class=\"column-1\"><strong>Mass:</strong></td><td class=\"column-2\">6.42 x 10^23 kg (10.7% Earth)</td>\n",
       "</tr>\n",
       "<tr class=\"row-4 even\">\n",
       "<td class=\"column-1\"><strong>Moons:</strong></td><td class=\"column-2\">2 (<a href=\"https://space-facts.com/phobos/\">Phobos</a> &amp; <a href=\"https://space-facts.com/deimos/\">Deimos</a>)</td>\n",
       "</tr>\n",
       "<tr class=\"row-5 odd\">\n",
       "<td class=\"column-1\"><strong>Orbit Distance:</strong></td><td class=\"column-2\">227,943,824 km (1.52 AU)</td>\n",
       "</tr>\n",
       "<tr class=\"row-6 even\">\n",
       "<td class=\"column-1\"><strong>Orbit Period:</strong></td><td class=\"column-2\">687 days (1.9 years)<br/>\n",
       "</td>\n",
       "</tr>\n",
       "<tr class=\"row-7 odd\">\n",
       "<td class=\"column-1\"><strong>Surface Temperature: </strong></td><td class=\"column-2\">-153 to 20 °C</td>\n",
       "</tr>\n",
       "<tr class=\"row-8 even\">\n",
       "<td class=\"column-1\"><strong>First Record:</strong></td><td class=\"column-2\">2nd millennium BC</td>\n",
       "</tr>\n",
       "<tr class=\"row-9 odd\">\n",
       "<td class=\"column-1\"><strong>Recorded By:</strong></td><td class=\"column-2\">Egyptian astronomers</td>\n",
       "</tr>\n",
       "</tbody>\n",
       "</table>"
      ]
     },
     "execution_count": 20,
     "metadata": {},
     "output_type": "execute_result"
    }
   ],
   "source": [
    "table"
   ]
  },
  {
   "cell_type": "code",
   "execution_count": 21,
   "metadata": {},
   "outputs": [],
   "source": [
    "from IPython.display import display_html"
   ]
  },
  {
   "cell_type": "code",
   "execution_count": 22,
   "metadata": {},
   "outputs": [],
   "source": [
    "table_str = f\"\"\"{table}\"\"\""
   ]
  },
  {
   "cell_type": "code",
   "execution_count": 23,
   "metadata": {},
   "outputs": [
    {
     "data": {
      "text/plain": [
       "'<table class=\"tablepress table-hover table-dark tablepress-id-mars\" id=\"tablepress-mars\">\\n<tbody>\\n<tr class=\"row-1 odd\">\\n<td class=\"column-1\"><strong>Equatorial Diameter:</strong></td><td class=\"column-2\">6,792 km<br/>\\n</td>\\n</tr>\\n<tr class=\"row-2 even\">\\n<td class=\"column-1\"><strong>Polar Diameter:</strong></td><td class=\"column-2\">6,752 km<br/>\\n</td>\\n</tr>\\n<tr class=\"row-3 odd\">\\n<td class=\"column-1\"><strong>Mass:</strong></td><td class=\"column-2\">6.42 x 10^23 kg (10.7% Earth)</td>\\n</tr>\\n<tr class=\"row-4 even\">\\n<td class=\"column-1\"><strong>Moons:</strong></td><td class=\"column-2\">2 (<a href=\"https://space-facts.com/phobos/\">Phobos</a> &amp; <a href=\"https://space-facts.com/deimos/\">Deimos</a>)</td>\\n</tr>\\n<tr class=\"row-5 odd\">\\n<td class=\"column-1\"><strong>Orbit Distance:</strong></td><td class=\"column-2\">227,943,824 km (1.52 AU)</td>\\n</tr>\\n<tr class=\"row-6 even\">\\n<td class=\"column-1\"><strong>Orbit Period:</strong></td><td class=\"column-2\">687 days (1.9 years)<br/>\\n</td>\\n</tr>\\n<tr class=\"row-7 odd\">\\n<td class=\"column-1\"><strong>Surface Temperature: </strong></td><td class=\"column-2\">-153 to 20 °C</td>\\n</tr>\\n<tr class=\"row-8 even\">\\n<td class=\"column-1\"><strong>First Record:</strong></td><td class=\"column-2\">2nd millennium BC</td>\\n</tr>\\n<tr class=\"row-9 odd\">\\n<td class=\"column-1\"><strong>Recorded By:</strong></td><td class=\"column-2\">Egyptian astronomers</td>\\n</tr>\\n</tbody>\\n</table>'"
      ]
     },
     "execution_count": 23,
     "metadata": {},
     "output_type": "execute_result"
    }
   ],
   "source": [
    "table_str.split(\"tablepress \")\n",
    "add_class = 'tablepress table-hover table-dark '\n",
    "table2 = add_class.join(table_str.split(\"tablepress \"))\n",
    "table2"
   ]
  },
  {
   "cell_type": "code",
   "execution_count": 26,
   "metadata": {},
   "outputs": [
    {
     "data": {
      "text/plain": [
       "'<table class=\"tablepress table-hover table-dark tablepress-id-mars\" id=\"tablepress-mars\"> <tbody> <tr class=\"row-1 odd\"> <td class=\"column-1\"><strong>Equatorial Diameter:</strong></td><td class=\"column-2\">6,792 km<br/> </td> </tr> <tr class=\"row-2 even\"> <td class=\"column-1\"><strong>Polar Diameter:</strong></td><td class=\"column-2\">6,752 km<br/> </td> </tr> <tr class=\"row-3 odd\"> <td class=\"column-1\"><strong>Mass:</strong></td><td class=\"column-2\">6.42 x 10^23 kg (10.7% Earth)</td> </tr> <tr class=\"row-4 even\"> <td class=\"column-1\"><strong>Moons:</strong></td><td class=\"column-2\">2 (<a href=\"https://space-facts.com/phobos/\">Phobos</a> &amp; <a href=\"https://space-facts.com/deimos/\">Deimos</a>)</td> </tr> <tr class=\"row-5 odd\"> <td class=\"column-1\"><strong>Orbit Distance:</strong></td><td class=\"column-2\">227,943,824 km (1.52 AU)</td> </tr> <tr class=\"row-6 even\"> <td class=\"column-1\"><strong>Orbit Period:</strong></td><td class=\"column-2\">687 days (1.9 years)<br/> </td> </tr> <tr class=\"row-7 odd\"> <td class=\"column-1\"><strong>Surface Temperature: </strong></td><td class=\"column-2\">-153 to 20 °C</td> </tr> <tr class=\"row-8 even\"> <td class=\"column-1\"><strong>First Record:</strong></td><td class=\"column-2\">2nd millennium BC</td> </tr> <tr class=\"row-9 odd\"> <td class=\"column-1\"><strong>Recorded By:</strong></td><td class=\"column-2\">Egyptian astronomers</td> </tr> </tbody> </table>'"
      ]
     },
     "execution_count": 26,
     "metadata": {},
     "output_type": "execute_result"
    }
   ],
   "source": [
    "tblLines = table2.replace('\\n', ' ')\n",
    "tblLines"
   ]
  },
  {
   "cell_type": "code",
   "execution_count": 28,
   "metadata": {},
   "outputs": [],
   "source": [
    "fd2 = pd.read_html(tblLines)"
   ]
  },
  {
   "cell_type": "code",
   "execution_count": 29,
   "metadata": {},
   "outputs": [],
   "source": [
    "fd2 = fd2[0]"
   ]
  },
  {
   "cell_type": "code",
   "execution_count": 32,
   "metadata": {},
   "outputs": [
    {
     "data": {
      "text/html": [
       "<div>\n",
       "<style scoped>\n",
       "    .dataframe tbody tr th:only-of-type {\n",
       "        vertical-align: middle;\n",
       "    }\n",
       "\n",
       "    .dataframe tbody tr th {\n",
       "        vertical-align: top;\n",
       "    }\n",
       "\n",
       "    .dataframe thead th {\n",
       "        text-align: right;\n",
       "    }\n",
       "</style>\n",
       "<table border=\"1\" class=\"dataframe\">\n",
       "  <thead>\n",
       "    <tr style=\"text-align: right;\">\n",
       "      <th></th>\n",
       "      <th>1</th>\n",
       "    </tr>\n",
       "    <tr>\n",
       "      <th>0</th>\n",
       "      <th></th>\n",
       "    </tr>\n",
       "  </thead>\n",
       "  <tbody>\n",
       "    <tr>\n",
       "      <th>Equatorial Diameter:</th>\n",
       "      <td>6,792 km</td>\n",
       "    </tr>\n",
       "    <tr>\n",
       "      <th>Polar Diameter:</th>\n",
       "      <td>6,752 km</td>\n",
       "    </tr>\n",
       "    <tr>\n",
       "      <th>Mass:</th>\n",
       "      <td>6.42 x 10^23 kg (10.7% Earth)</td>\n",
       "    </tr>\n",
       "    <tr>\n",
       "      <th>Moons:</th>\n",
       "      <td>2 (Phobos &amp; Deimos)</td>\n",
       "    </tr>\n",
       "    <tr>\n",
       "      <th>Orbit Distance:</th>\n",
       "      <td>227,943,824 km (1.52 AU)</td>\n",
       "    </tr>\n",
       "    <tr>\n",
       "      <th>Orbit Period:</th>\n",
       "      <td>687 days (1.9 years)</td>\n",
       "    </tr>\n",
       "    <tr>\n",
       "      <th>Surface Temperature:</th>\n",
       "      <td>-153 to 20 °C</td>\n",
       "    </tr>\n",
       "    <tr>\n",
       "      <th>First Record:</th>\n",
       "      <td>2nd millennium BC</td>\n",
       "    </tr>\n",
       "    <tr>\n",
       "      <th>Recorded By:</th>\n",
       "      <td>Egyptian astronomers</td>\n",
       "    </tr>\n",
       "  </tbody>\n",
       "</table>\n",
       "</div>"
      ],
      "text/plain": [
       "                                                  1\n",
       "0                                                  \n",
       "Equatorial Diameter:                       6,792 km\n",
       "Polar Diameter:                            6,752 km\n",
       "Mass:                 6.42 x 10^23 kg (10.7% Earth)\n",
       "Moons:                          2 (Phobos & Deimos)\n",
       "Orbit Distance:            227,943,824 km (1.52 AU)\n",
       "Orbit Period:                  687 days (1.9 years)\n",
       "Surface Temperature:                  -153 to 20 °C\n",
       "First Record:                     2nd millennium BC\n",
       "Recorded By:                   Egyptian astronomers"
      ]
     },
     "execution_count": 32,
     "metadata": {},
     "output_type": "execute_result"
    }
   ],
   "source": [
    "fd2 = fd2.set_index(0)\n",
    "fd2"
   ]
  },
  {
   "cell_type": "code",
   "execution_count": 63,
   "metadata": {},
   "outputs": [],
   "source": [
    "# print(table_str)"
   ]
  },
  {
   "cell_type": "code",
   "execution_count": 62,
   "metadata": {},
   "outputs": [],
   "source": [
    "# table.find_all('table')"
   ]
  },
  {
   "cell_type": "code",
   "execution_count": 41,
   "metadata": {},
   "outputs": [],
   "source": [
    "# table.strip('<table ').strip('</table>')"
   ]
  },
  {
   "cell_type": "code",
   "execution_count": 61,
   "metadata": {},
   "outputs": [],
   "source": [
    "# display_html(table_str, raw=True)"
   ]
  },
  {
   "cell_type": "code",
   "execution_count": 34,
   "metadata": {},
   "outputs": [],
   "source": [
    "dfs = pd.read_html(table_str)\n",
    "tbl = dfs[0]\n",
    "# dfs"
   ]
  },
  {
   "cell_type": "code",
   "execution_count": 35,
   "metadata": {},
   "outputs": [
    {
     "data": {
      "text/html": [
       "<div>\n",
       "<style scoped>\n",
       "    .dataframe tbody tr th:only-of-type {\n",
       "        vertical-align: middle;\n",
       "    }\n",
       "\n",
       "    .dataframe tbody tr th {\n",
       "        vertical-align: top;\n",
       "    }\n",
       "\n",
       "    .dataframe thead th {\n",
       "        text-align: right;\n",
       "    }\n",
       "</style>\n",
       "<table border=\"1\" class=\"dataframe\">\n",
       "  <thead>\n",
       "    <tr style=\"text-align: right;\">\n",
       "      <th></th>\n",
       "      <th>1</th>\n",
       "    </tr>\n",
       "    <tr>\n",
       "      <th>0</th>\n",
       "      <th></th>\n",
       "    </tr>\n",
       "  </thead>\n",
       "  <tbody>\n",
       "    <tr>\n",
       "      <th>Equatorial Diameter:</th>\n",
       "      <td>6,792 km</td>\n",
       "    </tr>\n",
       "    <tr>\n",
       "      <th>Polar Diameter:</th>\n",
       "      <td>6,752 km</td>\n",
       "    </tr>\n",
       "    <tr>\n",
       "      <th>Mass:</th>\n",
       "      <td>6.42 x 10^23 kg (10.7% Earth)</td>\n",
       "    </tr>\n",
       "    <tr>\n",
       "      <th>Moons:</th>\n",
       "      <td>2 (Phobos &amp; Deimos)</td>\n",
       "    </tr>\n",
       "    <tr>\n",
       "      <th>Orbit Distance:</th>\n",
       "      <td>227,943,824 km (1.52 AU)</td>\n",
       "    </tr>\n",
       "    <tr>\n",
       "      <th>Orbit Period:</th>\n",
       "      <td>687 days (1.9 years)</td>\n",
       "    </tr>\n",
       "    <tr>\n",
       "      <th>Surface Temperature:</th>\n",
       "      <td>-153 to 20 °C</td>\n",
       "    </tr>\n",
       "    <tr>\n",
       "      <th>First Record:</th>\n",
       "      <td>2nd millennium BC</td>\n",
       "    </tr>\n",
       "    <tr>\n",
       "      <th>Recorded By:</th>\n",
       "      <td>Egyptian astronomers</td>\n",
       "    </tr>\n",
       "  </tbody>\n",
       "</table>\n",
       "</div>"
      ],
      "text/plain": [
       "                                                  1\n",
       "0                                                  \n",
       "Equatorial Diameter:                       6,792 km\n",
       "Polar Diameter:                            6,752 km\n",
       "Mass:                 6.42 x 10^23 kg (10.7% Earth)\n",
       "Moons:                          2 (Phobos & Deimos)\n",
       "Orbit Distance:            227,943,824 km (1.52 AU)\n",
       "Orbit Period:                  687 days (1.9 years)\n",
       "Surface Temperature:                  -153 to 20 °C\n",
       "First Record:                     2nd millennium BC\n",
       "Recorded By:                   Egyptian astronomers"
      ]
     },
     "execution_count": 35,
     "metadata": {},
     "output_type": "execute_result"
    }
   ],
   "source": [
    "tbl = tbl.set_index(0)\n",
    "tbl"
   ]
  },
  {
   "cell_type": "code",
   "execution_count": 36,
   "metadata": {},
   "outputs": [
    {
     "data": {
      "text/plain": [
       "'<table border=\"1\" class=\"dataframe\">\\n  <thead>\\n    <tr style=\"text-align: right;\">\\n      <th></th>\\n      <th>1</th>\\n    </tr>\\n    <tr>\\n      <th>0</th>\\n      <th></th>\\n    </tr>\\n  </thead>\\n  <tbody>\\n    <tr>\\n      <th>Equatorial Diameter:</th>\\n      <td>6,792 km</td>\\n    </tr>\\n    <tr>\\n      <th>Polar Diameter:</th>\\n      <td>6,752 km</td>\\n    </tr>\\n    <tr>\\n      <th>Mass:</th>\\n      <td>6.42 x 10^23 kg (10.7% Earth)</td>\\n    </tr>\\n    <tr>\\n      <th>Moons:</th>\\n      <td>2 (Phobos &amp; Deimos)</td>\\n    </tr>\\n    <tr>\\n      <th>Orbit Distance:</th>\\n      <td>227,943,824 km (1.52 AU)</td>\\n    </tr>\\n    <tr>\\n      <th>Orbit Period:</th>\\n      <td>687 days (1.9 years)</td>\\n    </tr>\\n    <tr>\\n      <th>Surface Temperature:</th>\\n      <td>-153 to 20 °C</td>\\n    </tr>\\n    <tr>\\n      <th>First Record:</th>\\n      <td>2nd millennium BC</td>\\n    </tr>\\n    <tr>\\n      <th>Recorded By:</th>\\n      <td>Egyptian astronomers</td>\\n    </tr>\\n  </tbody>\\n</table>'"
      ]
     },
     "execution_count": 36,
     "metadata": {},
     "output_type": "execute_result"
    }
   ],
   "source": [
    "html_table = tbl.to_html()\n",
    "html_table"
   ]
  },
  {
   "cell_type": "code",
   "execution_count": 37,
   "metadata": {},
   "outputs": [
    {
     "data": {
      "text/plain": [
       "'<table border=\"1\" class=\"dataframe\">  <thead>    <tr style=\"text-align: right;\">      <th></th>      <th>1</th>    </tr>    <tr>      <th>0</th>      <th></th>    </tr>  </thead>  <tbody>    <tr>      <th>Equatorial Diameter:</th>      <td>6,792 km</td>    </tr>    <tr>      <th>Polar Diameter:</th>      <td>6,752 km</td>    </tr>    <tr>      <th>Mass:</th>      <td>6.42 x 10^23 kg (10.7% Earth)</td>    </tr>    <tr>      <th>Moons:</th>      <td>2 (Phobos &amp; Deimos)</td>    </tr>    <tr>      <th>Orbit Distance:</th>      <td>227,943,824 km (1.52 AU)</td>    </tr>    <tr>      <th>Orbit Period:</th>      <td>687 days (1.9 years)</td>    </tr>    <tr>      <th>Surface Temperature:</th>      <td>-153 to 20 °C</td>    </tr>    <tr>      <th>First Record:</th>      <td>2nd millennium BC</td>    </tr>    <tr>      <th>Recorded By:</th>      <td>Egyptian astronomers</td>    </tr>  </tbody></table>'"
      ]
     },
     "execution_count": 37,
     "metadata": {},
     "output_type": "execute_result"
    }
   ],
   "source": [
    "html_table = html_table.replace('\\n', '')\n",
    "html_table"
   ]
  },
  {
   "cell_type": "code",
   "execution_count": 38,
   "metadata": {},
   "outputs": [],
   "source": [
    "# tcode = html_table.split('>')\n",
    "# html_table\n",
    "tbl_strgs = html_table.split(\"\"\"  <thead>    <tr style=\"text-align: right;\">      <th></th>      <th>1</th>    </tr>    <tr>      <th>0</th>      <th></th>    </tr>  </thead>\"\"\")"
   ]
  },
  {
   "cell_type": "code",
   "execution_count": 39,
   "metadata": {},
   "outputs": [
    {
     "data": {
      "text/plain": [
       "'<table border=\"1\" class=\"dataframe\">  <tbody>    <tr>      <th>Equatorial Diameter:</th>      <td>6,792 km</td>    </tr>    <tr>      <th>Polar Diameter:</th>      <td>6,752 km</td>    </tr>    <tr>      <th>Mass:</th>      <td>6.42 x 10^23 kg (10.7% Earth)</td>    </tr>    <tr>      <th>Moons:</th>      <td>2 (Phobos &amp; Deimos)</td>    </tr>    <tr>      <th>Orbit Distance:</th>      <td>227,943,824 km (1.52 AU)</td>    </tr>    <tr>      <th>Orbit Period:</th>      <td>687 days (1.9 years)</td>    </tr>    <tr>      <th>Surface Temperature:</th>      <td>-153 to 20 °C</td>    </tr>    <tr>      <th>First Record:</th>      <td>2nd millennium BC</td>    </tr>    <tr>      <th>Recorded By:</th>      <td>Egyptian astronomers</td>    </tr>  </tbody></table>'"
      ]
     },
     "execution_count": 39,
     "metadata": {},
     "output_type": "execute_result"
    }
   ],
   "source": [
    "# tcode\n",
    "tbl_strgs\n",
    "strings = tbl_strgs[0]+tbl_strgs[1]\n",
    "strings"
   ]
  },
  {
   "cell_type": "code",
   "execution_count": 40,
   "metadata": {},
   "outputs": [
    {
     "data": {
      "text/plain": [
       "'<table border=\"1\" class=\"dataframe table-hover table-dark\">  <tbody>    <tr>      <th>Equatorial Diameter:</th>      <td>6,792 km</td>    </tr>    <tr>      <th>Polar Diameter:</th>      <td>6,752 km</td>    </tr>    <tr>      <th>Mass:</th>      <td>6.42 x 10^23 kg (10.7% Earth)</td>    </tr>    <tr>      <th>Moons:</th>      <td>2 (Phobos &amp; Deimos)</td>    </tr>    <tr>      <th>Orbit Distance:</th>      <td>227,943,824 km (1.52 AU)</td>    </tr>    <tr>      <th>Orbit Period:</th>      <td>687 days (1.9 years)</td>    </tr>    <tr>      <th>Surface Temperature:</th>      <td>-153 to 20 °C</td>    </tr>    <tr>      <th>First Record:</th>      <td>2nd millennium BC</td>    </tr>    <tr>      <th>Recorded By:</th>      <td>Egyptian astronomers</td>    </tr>  </tbody></table>'"
      ]
     },
     "execution_count": 40,
     "metadata": {},
     "output_type": "execute_result"
    }
   ],
   "source": [
    "# for t in tcode:\n",
    "#     print(t+'>')\n",
    "strings = strings.replace(\"\"\"class=\"dataframe\">\"\"\", \"\"\"class=\"dataframe table-hover table-dark\">\"\"\")\n",
    "strings"
   ]
  },
  {
   "cell_type": "code",
   "execution_count": null,
   "metadata": {},
   "outputs": [],
   "source": []
  },
  {
   "cell_type": "markdown",
   "metadata": {},
   "source": [
    "## Mars Hemisphere"
   ]
  },
  {
   "cell_type": "code",
   "execution_count": 53,
   "metadata": {},
   "outputs": [],
   "source": [
    "url = \"https://astrogeology.usgs.gov/search/results?q=hemisphere+enhanced&k1=target&v1=Mars/\"\n",
    "browser.visit(url)"
   ]
  },
  {
   "cell_type": "code",
   "execution_count": 26,
   "metadata": {},
   "outputs": [],
   "source": [
    "html = browser.html\n",
    "soup = BeautifulSoup(html, 'html.parser')"
   ]
  },
  {
   "cell_type": "code",
   "execution_count": 27,
   "metadata": {},
   "outputs": [],
   "source": [
    "images = soup.find_all('div', class_='item')"
   ]
  },
  {
   "cell_type": "code",
   "execution_count": 28,
   "metadata": {},
   "outputs": [
    {
     "data": {
      "text/plain": [
       "'/cache/images/dfaf3849e74bf973b59eb50dab52b583_cerberus_enhanced.tif_thumb.png'"
      ]
     },
     "execution_count": 28,
     "metadata": {},
     "output_type": "execute_result"
    }
   ],
   "source": [
    "images[0].img['src']"
   ]
  },
  {
   "cell_type": "code",
   "execution_count": 29,
   "metadata": {},
   "outputs": [],
   "source": [
    "# lnks = [images[x].img['src'] for x in range (0, len(images))]"
   ]
  },
  {
   "cell_type": "code",
   "execution_count": 30,
   "metadata": {},
   "outputs": [],
   "source": [
    "# images[0].a['href']\n",
    "lnks = [images[x].a['href'] for x in range (0, len(images))]"
   ]
  },
  {
   "cell_type": "code",
   "execution_count": 31,
   "metadata": {},
   "outputs": [
    {
     "data": {
      "text/plain": [
       "['/search/map/Mars/Viking/cerberus_enhanced',\n",
       " '/search/map/Mars/Viking/schiaparelli_enhanced']"
      ]
     },
     "execution_count": 31,
     "metadata": {},
     "output_type": "execute_result"
    }
   ],
   "source": [
    "lnks[0:2]"
   ]
  },
  {
   "cell_type": "code",
   "execution_count": 32,
   "metadata": {},
   "outputs": [],
   "source": [
    "image_links = []\n",
    "for x in lnks:\n",
    "    url = 'https://astrogeology.usgs.gov/'+x\n",
    "    browser.visit(url)\n",
    "    \n",
    "    html = browser.html\n",
    "    soup = BeautifulSoup(html, 'html.parser')\n",
    "\n",
    "    image_links.append(\"https://astrogeology.usgs.gov\" + soup.find('img', class_='wide-image')['src'])\n"
   ]
  },
  {
   "cell_type": "code",
   "execution_count": 33,
   "metadata": {},
   "outputs": [
    {
     "data": {
      "text/plain": [
       "['https://astrogeology.usgs.gov/cache/images/cfa62af2557222a02478f1fcd781d445_cerberus_enhanced.tif_full.jpg',\n",
       " 'https://astrogeology.usgs.gov/cache/images/3cdd1cbf5e0813bba925c9030d13b62e_schiaparelli_enhanced.tif_full.jpg',\n",
       " 'https://astrogeology.usgs.gov/cache/images/ae209b4e408bb6c3e67b6af38168cf28_syrtis_major_enhanced.tif_full.jpg',\n",
       " 'https://astrogeology.usgs.gov/cache/images/7cf2da4bf549ed01c17f206327be4db7_valles_marineris_enhanced.tif_full.jpg']"
      ]
     },
     "execution_count": 33,
     "metadata": {},
     "output_type": "execute_result"
    }
   ],
   "source": [
    "image_links"
   ]
  },
  {
   "cell_type": "code",
   "execution_count": 34,
   "metadata": {},
   "outputs": [],
   "source": [
    "hemisphere_image_urls = []\n",
    "for x in range(0, len(images)):\n",
    "    hemisphere_image_urls.append({'title': images[x].h3.text, 'img_url': image_links[x]})"
   ]
  },
  {
   "cell_type": "code",
   "execution_count": 35,
   "metadata": {},
   "outputs": [
    {
     "data": {
      "text/plain": [
       "[{'title': 'Cerberus Hemisphere Enhanced',\n",
       "  'img_url': 'https://astrogeology.usgs.gov/cache/images/cfa62af2557222a02478f1fcd781d445_cerberus_enhanced.tif_full.jpg'},\n",
       " {'title': 'Schiaparelli Hemisphere Enhanced',\n",
       "  'img_url': 'https://astrogeology.usgs.gov/cache/images/3cdd1cbf5e0813bba925c9030d13b62e_schiaparelli_enhanced.tif_full.jpg'},\n",
       " {'title': 'Syrtis Major Hemisphere Enhanced',\n",
       "  'img_url': 'https://astrogeology.usgs.gov/cache/images/ae209b4e408bb6c3e67b6af38168cf28_syrtis_major_enhanced.tif_full.jpg'},\n",
       " {'title': 'Valles Marineris Hemisphere Enhanced',\n",
       "  'img_url': 'https://astrogeology.usgs.gov/cache/images/7cf2da4bf549ed01c17f206327be4db7_valles_marineris_enhanced.tif_full.jpg'}]"
      ]
     },
     "execution_count": 35,
     "metadata": {},
     "output_type": "execute_result"
    }
   ],
   "source": [
    "hemisphere_image_urls"
   ]
  },
  {
   "cell_type": "code",
   "execution_count": null,
   "metadata": {},
   "outputs": [],
   "source": []
  },
  {
   "cell_type": "code",
   "execution_count": null,
   "metadata": {},
   "outputs": [],
   "source": []
  },
  {
   "cell_type": "code",
   "execution_count": null,
   "metadata": {},
   "outputs": [],
   "source": [
    "browser.quit()"
   ]
  },
  {
   "cell_type": "code",
   "execution_count": null,
   "metadata": {},
   "outputs": [],
   "source": []
  }
 ],
 "metadata": {
  "kernelspec": {
   "display_name": "Python 3",
   "language": "python",
   "name": "python3"
  },
  "language_info": {
   "codemirror_mode": {
    "name": "ipython",
    "version": 3
   },
   "file_extension": ".py",
   "mimetype": "text/x-python",
   "name": "python",
   "nbconvert_exporter": "python",
   "pygments_lexer": "ipython3",
   "version": "3.6.7"
  }
 },
 "nbformat": 4,
 "nbformat_minor": 2
}
